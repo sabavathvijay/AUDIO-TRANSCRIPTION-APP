{
  "nbformat": 4,
  "nbformat_minor": 0,
  "metadata": {
    "colab": {
      "provenance": [],
      "authorship_tag": "ABX9TyNabzGCuMfMRuEs49yl8YVt",
      "include_colab_link": true
    },
    "kernelspec": {
      "name": "python3",
      "display_name": "Python 3"
    },
    "language_info": {
      "name": "python"
    }
  },
  "cells": [
    {
      "cell_type": "markdown",
      "metadata": {
        "id": "view-in-github",
        "colab_type": "text"
      },
      "source": [
        "<a href=\"https://colab.research.google.com/github/sabavathvijay/AUDIO-TRANSCRIPTION-APP/blob/main/Vijay_05H7_.ipynb\" target=\"_parent\"><img src=\"https://colab.research.google.com/assets/colab-badge.svg\" alt=\"Open In Colab\"/></a>"
      ]
    },
    {
      "cell_type": "code",
      "execution_count": 3,
      "metadata": {
        "id": "ghP_rWNC_7m5",
        "colab": {
          "base_uri": "https://localhost:8080/"
        },
        "outputId": "4305342e-0665-417d-d6fb-324a62b753c1"
      },
      "outputs": [
        {
          "output_type": "stream",
          "name": "stdout",
          "text": [
            "Requirement already satisfied: numpy in /usr/local/lib/python3.11/dist-packages (2.0.2)\n"
          ]
        }
      ],
      "source": [
        "pip install numpy"
      ]
    },
    {
      "cell_type": "code",
      "source": [
        "import numpy as np"
      ],
      "metadata": {
        "id": "5SzAGQVZAJQO"
      },
      "execution_count": 4,
      "outputs": []
    },
    {
      "cell_type": "markdown",
      "source": [
        "**1.Even Odd  numbers in array**\n"
      ],
      "metadata": {
        "id": "2pwtd_nDArqb"
      }
    },
    {
      "cell_type": "code",
      "source": [
        "arr=np.arange(1,11)"
      ],
      "metadata": {
        "id": "_48bvUCFALKo"
      },
      "execution_count": 5,
      "outputs": []
    },
    {
      "cell_type": "code",
      "source": [
        "arr"
      ],
      "metadata": {
        "colab": {
          "base_uri": "https://localhost:8080/"
        },
        "id": "JnXG9JssBLLZ",
        "outputId": "b57232b5-fe54-459e-b023-dc6cbbb06544"
      },
      "execution_count": 6,
      "outputs": [
        {
          "output_type": "execute_result",
          "data": {
            "text/plain": [
              "array([ 1,  2,  3,  4,  5,  6,  7,  8,  9, 10])"
            ]
          },
          "metadata": {},
          "execution_count": 6
        }
      ]
    },
    {
      "cell_type": "code",
      "source": [
        "even=arr[arr%2==0]\n",
        "odd=arr[arr%2!=0]"
      ],
      "metadata": {
        "id": "LNxXVL0nBNMu"
      },
      "execution_count": 7,
      "outputs": []
    },
    {
      "cell_type": "code",
      "source": [
        "print(\"These are  Even numbers in array are: \",even)\n",
        "print(\"These are  Odd numbers in array are: \",odd)\n",
        "print('DONE ...')"
      ],
      "metadata": {
        "colab": {
          "base_uri": "https://localhost:8080/"
        },
        "id": "ZVnW7eEUBii0",
        "outputId": "255c101d-6a20-4896-f0bf-e3ad727f0732"
      },
      "execution_count": 8,
      "outputs": [
        {
          "output_type": "stream",
          "name": "stdout",
          "text": [
            "These are  Even numbers in array are:  [ 2  4  6  8 10]\n",
            "These are  Odd numbers in array are:  [1 3 5 7 9]\n",
            "DONE ...\n"
          ]
        }
      ]
    },
    {
      "cell_type": "markdown",
      "source": [
        "**2. Prime numbers in Array**"
      ],
      "metadata": {
        "id": "WKK6FfUbCBv2"
      }
    },
    {
      "cell_type": "code",
      "source": [
        "import random\n"
      ],
      "metadata": {
        "id": "hKyEL3TbBzoe"
      },
      "execution_count": 9,
      "outputs": []
    },
    {
      "cell_type": "code",
      "source": [
        "'''\n",
        "arr1=[]\n",
        "for i in range(20):\n",
        "  arr1.append(random.randint(1,20))\n",
        "'''\n",
        "arr1=np.arange(1,30)\n",
        "arr1"
      ],
      "metadata": {
        "colab": {
          "base_uri": "https://localhost:8080/"
        },
        "id": "1c2KAJupC2is",
        "outputId": "8a2e21c6-7abb-475b-d3c8-a536ac2c48ff"
      },
      "execution_count": 10,
      "outputs": [
        {
          "output_type": "execute_result",
          "data": {
            "text/plain": [
              "array([ 1,  2,  3,  4,  5,  6,  7,  8,  9, 10, 11, 12, 13, 14, 15, 16, 17,\n",
              "       18, 19, 20, 21, 22, 23, 24, 25, 26, 27, 28, 29])"
            ]
          },
          "metadata": {},
          "execution_count": 10
        }
      ]
    },
    {
      "cell_type": "code",
      "source": [],
      "metadata": {
        "id": "sUV6dCnsGjV2"
      },
      "execution_count": 10,
      "outputs": []
    },
    {
      "cell_type": "code",
      "source": [
        "def IsPrime(x):\n",
        "  if  x<2:\n",
        "    return False\n",
        "  count=0\n",
        "  for i in range(2 ,x+1):\n",
        "    if x%i==0:\n",
        "      count+=1\n",
        "  return count==2\n"
      ],
      "metadata": {
        "id": "uqLxiVBoFKEl"
      },
      "execution_count": 11,
      "outputs": []
    },
    {
      "cell_type": "code",
      "source": [
        "print(\"The primes are : \")\n",
        "for i in arr1:\n",
        "  if IsPrime(i):\n",
        "    print(arr1[i])\n",
        "\n",
        "\n",
        "\n",
        "\n",
        "\n"
      ],
      "metadata": {
        "colab": {
          "base_uri": "https://localhost:8080/"
        },
        "id": "wGnwMbqqIJx9",
        "outputId": "2c6ad390-4e58-4aa9-d86c-d8e60ce8d13a"
      },
      "execution_count": 12,
      "outputs": [
        {
          "output_type": "stream",
          "name": "stdout",
          "text": [
            "The primes are : \n",
            "5\n",
            "10\n",
            "26\n"
          ]
        }
      ]
    },
    {
      "cell_type": "markdown",
      "source": [
        "**3. Assending Descending Order of Array**"
      ],
      "metadata": {
        "id": "UzDr9YlJPGTc"
      }
    },
    {
      "cell_type": "code",
      "source": [
        "arr3=np.random.randint(1,100,8)"
      ],
      "metadata": {
        "id": "MoNJ_QzcHKRB"
      },
      "execution_count": 13,
      "outputs": []
    },
    {
      "cell_type": "code",
      "source": [
        "arr3"
      ],
      "metadata": {
        "colab": {
          "base_uri": "https://localhost:8080/"
        },
        "id": "O8RxnWkHPzz8",
        "outputId": "42461590-f384-47e9-b5ab-e19b5a3a854f"
      },
      "execution_count": 14,
      "outputs": [
        {
          "output_type": "execute_result",
          "data": {
            "text/plain": [
              "array([11,  8, 22, 76, 92, 60, 95,  6])"
            ]
          },
          "metadata": {},
          "execution_count": 14
        }
      ]
    },
    {
      "cell_type": "code",
      "source": [
        "assending =np.sort(arr3)\n",
        "assending"
      ],
      "metadata": {
        "colab": {
          "base_uri": "https://localhost:8080/"
        },
        "id": "JZem4StaP1PB",
        "outputId": "7e41f03d-2faa-4e1a-c51a-9bc4d9f0054c"
      },
      "execution_count": 15,
      "outputs": [
        {
          "output_type": "execute_result",
          "data": {
            "text/plain": [
              "array([ 6,  8, 11, 22, 60, 76, 92, 95])"
            ]
          },
          "metadata": {},
          "execution_count": 15
        }
      ]
    },
    {
      "cell_type": "code",
      "source": [
        "descending=assending[::-1]\n",
        "descending"
      ],
      "metadata": {
        "colab": {
          "base_uri": "https://localhost:8080/"
        },
        "id": "uwK5ymDSQK3q",
        "outputId": "c1108ef3-999f-488a-d597-b7ec18fd7e53"
      },
      "execution_count": 16,
      "outputs": [
        {
          "output_type": "execute_result",
          "data": {
            "text/plain": [
              "array([95, 92, 76, 60, 22, 11,  8,  6])"
            ]
          },
          "metadata": {},
          "execution_count": 16
        }
      ]
    },
    {
      "cell_type": "markdown",
      "source": [
        "**4. Reshape of Data**"
      ],
      "metadata": {
        "id": "-We23bxbQknZ"
      }
    },
    {
      "cell_type": "code",
      "source": [
        "arr4=np.arange(1,26)\n",
        "print(arr4)\n",
        "arr4.size"
      ],
      "metadata": {
        "colab": {
          "base_uri": "https://localhost:8080/"
        },
        "id": "arcpgNrTQcyC",
        "outputId": "17604136-43d2-4551-8a2c-73a3f1c6c6ec"
      },
      "execution_count": 17,
      "outputs": [
        {
          "output_type": "stream",
          "name": "stdout",
          "text": [
            "[ 1  2  3  4  5  6  7  8  9 10 11 12 13 14 15 16 17 18 19 20 21 22 23 24\n",
            " 25]\n"
          ]
        },
        {
          "output_type": "execute_result",
          "data": {
            "text/plain": [
              "25"
            ]
          },
          "metadata": {},
          "execution_count": 17
        }
      ]
    },
    {
      "cell_type": "code",
      "source": [
        "Reshaped=arr4.reshape(5,5)\n",
        "Reshaped"
      ],
      "metadata": {
        "colab": {
          "base_uri": "https://localhost:8080/"
        },
        "id": "38xYWJU2RALB",
        "outputId": "4f55ee0d-5ee8-4019-e3c5-2c77af557e61"
      },
      "execution_count": 18,
      "outputs": [
        {
          "output_type": "execute_result",
          "data": {
            "text/plain": [
              "array([[ 1,  2,  3,  4,  5],\n",
              "       [ 6,  7,  8,  9, 10],\n",
              "       [11, 12, 13, 14, 15],\n",
              "       [16, 17, 18, 19, 20],\n",
              "       [21, 22, 23, 24, 25]])"
            ]
          },
          "metadata": {},
          "execution_count": 18
        }
      ]
    },
    {
      "cell_type": "markdown",
      "source": [
        "**5.Min Max Values without builtin functions**"
      ],
      "metadata": {
        "id": "n6R6ty0dTwru"
      }
    },
    {
      "cell_type": "code",
      "source": [
        "arr5=np.random.randint(1,100,10)\n",
        "arr5"
      ],
      "metadata": {
        "colab": {
          "base_uri": "https://localhost:8080/"
        },
        "id": "mnGYf_rVSdth",
        "outputId": "6a7f9827-8886-4eee-bff5-c6b42198cf10"
      },
      "execution_count": 19,
      "outputs": [
        {
          "output_type": "execute_result",
          "data": {
            "text/plain": [
              "array([53, 97, 79, 69,  3, 57, 69, 60, 27, 18])"
            ]
          },
          "metadata": {},
          "execution_count": 19
        }
      ]
    },
    {
      "cell_type": "code",
      "source": [
        "_Min=arr5[0]\n",
        "_Max=arr5[0]\n",
        "for i in arr5:\n",
        "  if i<_Min:\n",
        "    _Min=i\n",
        "  if i>_Max:\n",
        "    _Max=i\n",
        "print(f\" The minimum and Maximum in Array are :\\n min {_Min}\\n max {_Max}\")\n",
        "\n",
        "\n"
      ],
      "metadata": {
        "colab": {
          "base_uri": "https://localhost:8080/"
        },
        "id": "CSjyV0EWUZBA",
        "outputId": "706832dc-1be4-4f65-9f6d-5acc91d49978"
      },
      "execution_count": 20,
      "outputs": [
        {
          "output_type": "stream",
          "name": "stdout",
          "text": [
            " The minimum and Maximum in Array are :\n",
            " min 3\n",
            " max 97\n"
          ]
        }
      ]
    },
    {
      "cell_type": "markdown",
      "source": [
        "**6.Positions of Min Max Values without argmin argmax **"
      ],
      "metadata": {
        "id": "5zq0DNJPW3WF"
      }
    },
    {
      "cell_type": "code",
      "source": [
        "arr6=np.random.randint(1,100,10)\n",
        "arr6"
      ],
      "metadata": {
        "id": "8o7FSS9qXK-r",
        "colab": {
          "base_uri": "https://localhost:8080/"
        },
        "outputId": "cf90cc32-12ae-4d6c-89ae-0220ef07d9f8"
      },
      "execution_count": 24,
      "outputs": [
        {
          "output_type": "execute_result",
          "data": {
            "text/plain": [
              "array([82, 34, 49, 40, 73, 75, 31, 94, 53, 97])"
            ]
          },
          "metadata": {},
          "execution_count": 24
        }
      ]
    },
    {
      "cell_type": "code",
      "source": [
        "min_=0\n",
        "max_=0\n",
        "for i in range(len(arr6)):\n",
        "  if arr6[i]<arr6[min_]:\n",
        "    min_=i\n",
        "  if arr6[i]>arr6[max_]:\n",
        "    max_=i"
      ],
      "metadata": {
        "id": "4KmK_AuO8dnQ"
      },
      "execution_count": 25,
      "outputs": []
    },
    {
      "cell_type": "code",
      "source": [
        "print(f\"The position of min max are :\\n min's {min_} \\n max's {max_} \")"
      ],
      "metadata": {
        "colab": {
          "base_uri": "https://localhost:8080/"
        },
        "id": "9k1Byk7H8-Jv",
        "outputId": "39a518b0-e8f0-4714-d5bf-bc939e970ee4"
      },
      "execution_count": 26,
      "outputs": [
        {
          "output_type": "stream",
          "name": "stdout",
          "text": [
            "The position of min max are :\n",
            " min's 6 \n",
            " max's 9 \n"
          ]
        }
      ]
    },
    {
      "cell_type": "code",
      "source": [],
      "metadata": {
        "id": "TVbKN0wh9mrx"
      },
      "execution_count": null,
      "outputs": []
    },
    {
      "cell_type": "markdown",
      "source": [
        "**7. Palindrome Series using Numpy**"
      ],
      "metadata": {
        "id": "tmxMAIdQ9k5S"
      }
    },
    {
      "cell_type": "code",
      "source": [
        "def PalindromeSeries(n):\n",
        "  return str(n)==str(n)[::-1]"
      ],
      "metadata": {
        "id": "4U7fXm849beg"
      },
      "execution_count": 27,
      "outputs": []
    },
    {
      "cell_type": "code",
      "source": [
        "palindromes=np.array([x for x in range(150) if PalindromeSeries(x)])"
      ],
      "metadata": {
        "id": "rSt2y-Xh-mT6"
      },
      "execution_count": 28,
      "outputs": []
    },
    {
      "cell_type": "code",
      "source": [
        "print(\"These are palindrome numbers : \",palindromes)"
      ],
      "metadata": {
        "colab": {
          "base_uri": "https://localhost:8080/"
        },
        "id": "ApwLgtsX-5rz",
        "outputId": "28e5024d-b098-4bcd-ef8f-3fbd33473701"
      },
      "execution_count": 30,
      "outputs": [
        {
          "output_type": "stream",
          "name": "stdout",
          "text": [
            "These are palindrome numbers :  [  0   1   2   3   4   5   6   7   8   9  11  22  33  44  55  66  77  88\n",
            "  99 101 111 121 131 141]\n"
          ]
        }
      ]
    },
    {
      "cell_type": "markdown",
      "source": [
        "**8. Data set of student without Pandas**"
      ],
      "metadata": {
        "id": "q7pQr_5O_PJr"
      }
    },
    {
      "cell_type": "code",
      "source": [
        "import random\n",
        "\n",
        "data = []\n",
        "for _ in range(100):\n",
        "    row = [\n",
        "        random.randint(18, 30),           # age\n",
        "        random.choice(['M', 'F']),        # gender\n",
        "        random.randint(60, 100),          # marks1\n",
        "        random.randint(60, 100),          # marks2\n",
        "        random.randint(60, 100),          # marks3\n",
        "        random.randint(60, 100),          # marks4\n",
        "        random.randint(60, 100),          # marks5\n",
        "        random.choice(['Yes', 'No']),     # sports\n",
        "        random.choice(['Urban', 'Rural']),# location\n",
        "        random.choice(['A', 'B', 'C'])     # grade\n",
        "    ]\n",
        "    data.append(row)\n",
        "\n",
        "data_np = np.array(data)\n",
        "print(\"Sample row:\", data_np[0])\n"
      ],
      "metadata": {
        "colab": {
          "base_uri": "https://localhost:8080/"
        },
        "id": "WrMeQW82_GXs",
        "outputId": "b3d88c4c-c50d-4c3f-88bf-61be75db90cd"
      },
      "execution_count": 39,
      "outputs": [
        {
          "output_type": "stream",
          "name": "stdout",
          "text": [
            "Sample row: ['29' 'F' '99' '68' '90' '95' '60' 'No' 'Rural' 'B']\n"
          ]
        }
      ]
    },
    {
      "cell_type": "markdown",
      "source": [
        "**9.Variable conversion **"
      ],
      "metadata": {
        "id": "lOPvpjuxCvyG"
      }
    },
    {
      "cell_type": "code",
      "source": [
        "arr = np.array([1, 2, 3, 4])\n",
        "converted = arr.astype(float)\n",
        "print(\"Converted to float:\", converted)\n"
      ],
      "metadata": {
        "colab": {
          "base_uri": "https://localhost:8080/"
        },
        "id": "0dwONljeCk9W",
        "outputId": "2f980f04-c47c-4085-ffce-d0c64e43912d"
      },
      "execution_count": 40,
      "outputs": [
        {
          "output_type": "stream",
          "name": "stdout",
          "text": [
            "Converted to float: [1. 2. 3. 4.]\n"
          ]
        }
      ]
    },
    {
      "cell_type": "markdown",
      "source": [
        "**10. 10 operations with user defined Function **"
      ],
      "metadata": {
        "id": "QVEY2KtpDH1U"
      }
    },
    {
      "cell_type": "code",
      "source": [
        "def math_operations(a, b):\n",
        "    print(\"Add:\", a + b)\n",
        "    print(\"Subtract:\", a - b)\n",
        "    print(\"Multiply:\", a * b)\n",
        "    print(\"Divide:\", a / b)\n",
        "    print(\"Modulus:\", a % b)\n",
        "    print(\"Power:\", a ** b)\n",
        "    print(\"Floor Div:\", a // b)\n",
        "    print(\"Bitwise AND:\", a & b)\n",
        "    print(\"Bitwise OR:\", a | b)\n",
        "    print(\"Bitwise XOR:\", a ^ b)\n",
        "\n",
        "math_operations(10, 3)\n"
      ],
      "metadata": {
        "colab": {
          "base_uri": "https://localhost:8080/"
        },
        "id": "zHyQoupsDB4y",
        "outputId": "c814c504-eb30-45bb-ff02-1bafe603bf80"
      },
      "execution_count": 41,
      "outputs": [
        {
          "output_type": "stream",
          "name": "stdout",
          "text": [
            "Add: 13\n",
            "Subtract: 7\n",
            "Multiply: 30\n",
            "Divide: 3.3333333333333335\n",
            "Modulus: 1\n",
            "Power: 1000\n",
            "Floor Div: 3\n",
            "Bitwise AND: 2\n",
            "Bitwise OR: 11\n",
            "Bitwise XOR: 9\n"
          ]
        }
      ]
    },
    {
      "cell_type": "markdown",
      "source": [
        "FUNCTION:-\n",
        "\n",
        "-> The function is a block of reusable code that performs a specific task.\n",
        "\n",
        "CLASS :-\n",
        "-> The class is a blueprint for creating objects and Object is Instance of Class\n",
        "-> Class  encapsulates data and functions together.\n",
        "\n",
        "Examples:\n",
        "\n",
        "Function:\n",
        "\n",
        "\n",
        "\n",
        "def greet(\"name):\n",
        "\n",
        "    print(\"Hello\", name)\n",
        "\n",
        "Class:\n",
        "\n",
        "class Greeter:\n",
        "    \n",
        "    def greet(self,name):\n",
        "        \n",
        "        print(\"Hello\",name)\n"
      ],
      "metadata": {
        "id": "8N1wj6uEDkht"
      }
    },
    {
      "cell_type": "code",
      "source": [],
      "metadata": {
        "id": "yeX3bAd2Dc7D"
      },
      "execution_count": null,
      "outputs": []
    }
  ]
}